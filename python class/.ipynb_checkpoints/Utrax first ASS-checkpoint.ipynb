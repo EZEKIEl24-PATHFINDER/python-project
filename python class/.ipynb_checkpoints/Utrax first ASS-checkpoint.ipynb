{
 "cells": [
  {
   "cell_type": "markdown",
   "id": "508a1118-65a9-471b-a29c-47e0d03d79b7",
   "metadata": {},
   "source": [
    "#### TO CALCULATE THE AREA OF A CIRCLE"
   ]
  },
  {
   "cell_type": "code",
   "execution_count": 2,
   "id": "f4f3ef61-e770-4d62-ad96-432d5357e78a",
   "metadata": {},
   "outputs": [],
   "source": [
    "import math as mth\n"
   ]
  },
  {
   "cell_type": "code",
   "execution_count": 5,
   "id": "165e5017-fa14-4749-81e6-e195788adb4e",
   "metadata": {},
   "outputs": [
    {
     "name": "stdin",
     "output_type": "stream",
     "text": [
      "enter the radius:  15\n"
     ]
    },
    {
     "name": "stdout",
     "output_type": "stream",
     "text": [
      "706.95\n"
     ]
    }
   ],
   "source": [
    "pi = 3.142\n",
    "R = int(input(\"enter the radius: \"))\n",
    "Area = round(pi * R**2,2)\n",
    "print(Area)"
   ]
  },
  {
   "cell_type": "code",
   "execution_count": 8,
   "id": "390af4b3-8286-4c1c-8d57-61f1573beb45",
   "metadata": {},
   "outputs": [
    {
     "name": "stdin",
     "output_type": "stream",
     "text": [
      "enter the radius:  15\n"
     ]
    },
    {
     "name": "stdout",
     "output_type": "stream",
     "text": [
      "The Area of a circle is 706.95\n"
     ]
    }
   ],
   "source": [
    "pi = 3.142\n",
    "R = int(input(\"enter the radius: \"))\n",
    "Area = round(pi * R**2,2)\n",
    "print(f\"The Area of a circle is {Area}\")"
   ]
  },
  {
   "cell_type": "markdown",
   "id": "c7566173-0f2d-4381-aee3-6b9edf500b8e",
   "metadata": {},
   "source": [
    "### TO CALCULATE THE ARITHMETIC MEAN OF THREE FLOAT VALUES"
   ]
  },
  {
   "cell_type": "code",
   "execution_count": 12,
   "id": "4a2edc66-b027-435d-93fd-3f4baa7ac0e8",
   "metadata": {},
   "outputs": [
    {
     "name": "stdin",
     "output_type": "stream",
     "text": [
      "Enter the first value:  2.5\n",
      "Enter the second value:  10.5\n",
      "Enter the third value:  6.0\n"
     ]
    },
    {
     "name": "stdout",
     "output_type": "stream",
     "text": [
      "6.333333333333333\n"
     ]
    }
   ],
   "source": [
    "a = float(input(\"Enter the first value: \"))\n",
    "b = float(input(\"Enter the second value: \"))\n",
    "c = float(input(\"Enter the third value: \"))\n",
    "Arith = (a+b+c)/3\n",
    "print(Arith)"
   ]
  },
  {
   "cell_type": "code",
   "execution_count": 15,
   "id": "1c912e0e-b1c3-4e37-9196-c546426aac12",
   "metadata": {},
   "outputs": [
    {
     "name": "stdin",
     "output_type": "stream",
     "text": [
      "Enter the first value:  2.5\n",
      "Enter the second value:  10.5\n",
      "Enter the third value:  6.0\n"
     ]
    },
    {
     "name": "stdout",
     "output_type": "stream",
     "text": [
      " The Arith mean of three float value is 6.3333\n"
     ]
    }
   ],
   "source": [
    "a = float(input(\"Enter the first value: \"))\n",
    "b = float(input(\"Enter the second value: \"))\n",
    "c = float(input(\"Enter the third value: \"))\n",
    "Arith = round((a+b+c)/3,4)\n",
    "print(f\" The Arith mean of three float value is {Arith}\")"
   ]
  },
  {
   "cell_type": "code",
   "execution_count": null,
   "id": "c45e2a65-9fb0-41bf-8179-08e18a4a91ea",
   "metadata": {},
   "outputs": [],
   "source": []
  }
 ],
 "metadata": {
  "kernelspec": {
   "display_name": "Python 3 (ipykernel)",
   "language": "python",
   "name": "python3"
  },
  "language_info": {
   "codemirror_mode": {
    "name": "ipython",
    "version": 3
   },
   "file_extension": ".py",
   "mimetype": "text/x-python",
   "name": "python",
   "nbconvert_exporter": "python",
   "pygments_lexer": "ipython3",
   "version": "3.12.4"
  }
 },
 "nbformat": 4,
 "nbformat_minor": 5
}
