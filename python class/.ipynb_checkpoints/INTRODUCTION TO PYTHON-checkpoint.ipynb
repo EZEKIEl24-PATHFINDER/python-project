{
 "cells": [
  {
   "cell_type": "markdown",
   "id": "15217acc-9759-4587-bce7-601fc25b64fe",
   "metadata": {},
   "source": [
    "#### INTRODUCTION TO PYTHON CLASS"
   ]
  },
  {
   "cell_type": "markdown",
   "id": "7aefd3c6-4d50-4623-baec-4fb7b153e68f",
   "metadata": {},
   "source": [
    "#### Python Basic"
   ]
  },
  {
   "cell_type": "code",
   "execution_count": 1,
   "id": "7e7d84e8-7ab6-48f2-ae07-5b6849f7cede",
   "metadata": {},
   "outputs": [
    {
     "data": {
      "text/plain": [
       "2"
      ]
     },
     "execution_count": 1,
     "metadata": {},
     "output_type": "execute_result"
    }
   ],
   "source": [
    "1 + 1 # this is a comment"
   ]
  },
  {
   "cell_type": "code",
   "execution_count": 3,
   "id": "87457786-92a9-4202-80ec-6e09420f852c",
   "metadata": {},
   "outputs": [
    {
     "data": {
      "text/plain": [
       "True"
      ]
     },
     "execution_count": 3,
     "metadata": {},
     "output_type": "execute_result"
    }
   ],
   "source": [
    "1==1"
   ]
  },
  {
   "cell_type": "code",
   "execution_count": 7,
   "id": "1b1aa428-aa94-4485-8337-fd83510883e2",
   "metadata": {},
   "outputs": [
    {
     "data": {
      "text/plain": [
       "3"
      ]
     },
     "execution_count": 7,
     "metadata": {},
     "output_type": "execute_result"
    }
   ],
   "source": [
    "6//2"
   ]
  },
  {
   "cell_type": "code",
   "execution_count": 4,
   "id": "37953cb4-9ded-4227-bd07-c762a1da1b13",
   "metadata": {},
   "outputs": [
    {
     "name": "stdin",
     "output_type": "stream",
     "text": [
      "Enter the value 20\n"
     ]
    },
    {
     "name": "stdout",
     "output_type": "stream",
     "text": [
      "<class 'int'>\n",
      "20\n"
     ]
    }
   ],
   "source": [
    "number = int(input(\"Enter any value\"))\n",
    "print(type(number))\n",
    "print(number)"
   ]
  },
  {
   "cell_type": "code",
   "execution_count": 13,
   "id": "3d53f92a-7c9f-4e4e-bf50-7b9047442fd4",
   "metadata": {},
   "outputs": [
    {
     "name": "stdin",
     "output_type": "stream",
     "text": [
      "Enter your name:  asaph\n"
     ]
    },
    {
     "name": "stdout",
     "output_type": "stream",
     "text": [
      "ASAPH\n",
      "<class 'str'>\n"
     ]
    }
   ],
   "source": [
    "name = input(\"Enter your name: \").upper()\n",
    "print(name)\n",
    "print(type(name))"
   ]
  },
  {
   "cell_type": "code",
   "execution_count": 12,
   "id": "0dd80c95-e602-405d-8290-301950599eb0",
   "metadata": {},
   "outputs": [
    {
     "name": "stdout",
     "output_type": "stream",
     "text": [
      "Glory\n"
     ]
    }
   ],
   "source": [
    "name = 'Glory'\n",
    "print(name)"
   ]
  },
  {
   "cell_type": "code",
   "execution_count": 3,
   "id": "c6e2eb10-e40e-4dbc-b879-90ab6491b297",
   "metadata": {},
   "outputs": [
    {
     "name": "stdin",
     "output_type": "stream",
     "text": [
      "enter your age:  20\n"
     ]
    },
    {
     "name": "stdout",
     "output_type": "stream",
     "text": [
      "20\n"
     ]
    }
   ],
   "source": [
    "age = int(input(\"enter your age: \"))\n",
    "print(age)"
   ]
  },
  {
   "cell_type": "code",
   "execution_count": 1,
   "id": "25bdf288-cd30-4f79-b407-fbe187b56ca6",
   "metadata": {},
   "outputs": [
    {
     "name": "stdin",
     "output_type": "stream",
     "text": [
      "Enter first value:  10\n",
      "Enter second value:  20\n",
      "Enter third value:  30\n"
     ]
    },
    {
     "name": "stdout",
     "output_type": "stream",
     "text": [
      "20.0\n"
     ]
    }
   ],
   "source": [
    "# calculate the average of three numbers from the user\n",
    "a = int(input(\"Enter first value: \"))\n",
    "b = int(input(\"Enter second value: \"))\n",
    "c = int(input(\"Enter third value: \"))\n",
    "avg = (a+b+c)/3\n",
    "print(avg)"
   ]
  },
  {
   "cell_type": "code",
   "execution_count": 2,
   "id": "ba11fc55-3e8f-4c91-87cd-d103a19f3b70",
   "metadata": {},
   "outputs": [
    {
     "name": "stdin",
     "output_type": "stream",
     "text": [
      "Enter first value:  10\n",
      "Enter second value:  20\n",
      "Enter third value:  30\n"
     ]
    },
    {
     "name": "stdout",
     "output_type": "stream",
     "text": [
      "The average of a, b, c is 20.0\n"
     ]
    }
   ],
   "source": [
    "# calculate the average of three numbers from the user\n",
    "a = int(input(\"Enter first value: \"))\n",
    "b = int(input(\"Enter second value: \"))\n",
    "c = int(input(\"Enter third value: \"))\n",
    "avg = (a+b+c)/3\n",
    "print(f\"The average of a, b, c is {avg}\")"
   ]
  },
  {
   "cell_type": "code",
   "execution_count": 8,
   "id": "816253b5-385f-4c2c-b4f2-11f853f0476a",
   "metadata": {},
   "outputs": [
    {
     "name": "stdout",
     "output_type": "stream",
     "text": [
      "6.0\n"
     ]
    }
   ],
   "source": [
    "a = 5\n",
    "b = 4\n",
    "c = 12\n",
    "d = 3\n",
    "average = (a+b+c+d)/4\n",
    "print(average)"
   ]
  },
  {
   "cell_type": "code",
   "execution_count": 9,
   "id": "504c68a1-231e-4a8c-9d67-f6e0e01061b4",
   "metadata": {},
   "outputs": [
    {
     "name": "stdin",
     "output_type": "stream",
     "text": [
      "Enter first value:  34\n",
      "Enter second value:  43\n",
      "Enter third value:  20\n"
     ]
    },
    {
     "name": "stdout",
     "output_type": "stream",
     "text": [
      "The average of a, b, c is 32.33\n"
     ]
    }
   ],
   "source": [
    "# calculate the average of three numbers from the user\n",
    "a = int(input(\"Enter first value: \"))\n",
    "b = int(input(\"Enter second value: \"))\n",
    "c = int(input(\"Enter third value: \"))\n",
    "avg = round((a+b+c)/3,2) #to round a number to two decimal place\n",
    "print(f\"The average of a, b, c is {avg}\")"
   ]
  },
  {
   "cell_type": "code",
   "execution_count": null,
   "id": "fd519886-22aa-4d38-89f1-1e541daedb62",
   "metadata": {},
   "outputs": [],
   "source": []
  }
 ],
 "metadata": {
  "kernelspec": {
   "display_name": "Python 3 (ipykernel)",
   "language": "python",
   "name": "python3"
  },
  "language_info": {
   "codemirror_mode": {
    "name": "ipython",
    "version": 3
   },
   "file_extension": ".py",
   "mimetype": "text/x-python",
   "name": "python",
   "nbconvert_exporter": "python",
   "pygments_lexer": "ipython3",
   "version": "3.12.4"
  }
 },
 "nbformat": 4,
 "nbformat_minor": 5
}
