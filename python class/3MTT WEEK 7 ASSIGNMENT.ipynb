{
 "cells": [
  {
   "cell_type": "code",
   "execution_count": 6,
   "id": "e7792b40-c768-44fb-b318-bbb1db3b2cca",
   "metadata": {},
   "outputs": [
    {
     "name": "stdout",
     "output_type": "stream",
     "text": [
      "DataFrame: \n",
      "      Name   Age         City    Salary\n",
      "0    Alice  24.0     New York   70000.0\n",
      "1      Bob   NaN  Los Angeles   80000.0\n",
      "2  Charlie  22.0         None       NaN\n",
      "3     None  32.0      Houston  120000.0\n",
      "4      Eve  29.0      Phoenix       NaN\n",
      "\n",
      "count of missing values: \n",
      "Name      0\n",
      "Age       1\n",
      "City      0\n",
      "Salary    2\n",
      "dtype: int64\n",
      "\n",
      "DataFrame with 'Salary_filled' column:\n",
      "      Name   Age         City    Salary  Salary_filled\n",
      "0    Alice  24.0     New York   70000.0        70000.0\n",
      "1      Bob   NaN  Los Angeles   80000.0        80000.0\n",
      "2  Charlie  22.0         None       NaN        90000.0\n",
      "3     None  32.0      Houston  120000.0       120000.0\n",
      "4      Eve  29.0      Phoenix       NaN        90000.0\n"
     ]
    }
   ],
   "source": [
    "import pandas as pd\n",
    "import numpy as np\n",
    "data = {\n",
    "    'Name': ['Alice', 'Bob', 'Charlie', 'None', 'Eve'],\n",
    "    'Age': [24, None, 22, 32, 29],\n",
    "    'City': ['New York', 'Los Angeles', 'None', 'Houston', 'Phoenix'],\n",
    "    'Salary': [70000, 80000, None, 120000, None]\n",
    "}\n",
    "\n",
    "df = pd.DataFrame(data)\n",
    " # Display the data frame\n",
    "print(\"DataFrame: \")\n",
    "print(df)\n",
    "# counting missing values\n",
    "print(\"\\ncount of missing values: \")\n",
    "print(df.isnull().sum())\n",
    "# creating a new colume salary filled with missing values filled by the average salary\n",
    "average_salary = df['Salary'].mean()\n",
    "df['Salary_filled'] = df['Salary'].fillna(average_salary)\n",
    "print(\"\\nDataFrame with 'Salary_filled' column:\")\n",
    "print(df)"
   ]
  },
  {
   "cell_type": "code",
   "execution_count": null,
   "id": "45370a6a-a92c-46fc-ba9b-3d211c058cbd",
   "metadata": {},
   "outputs": [],
   "source": []
  }
 ],
 "metadata": {
  "kernelspec": {
   "display_name": "Python 3 (ipykernel)",
   "language": "python",
   "name": "python3"
  },
  "language_info": {
   "codemirror_mode": {
    "name": "ipython",
    "version": 3
   },
   "file_extension": ".py",
   "mimetype": "text/x-python",
   "name": "python",
   "nbconvert_exporter": "python",
   "pygments_lexer": "ipython3",
   "version": "3.12.4"
  }
 },
 "nbformat": 4,
 "nbformat_minor": 5
}
